{
 "cells": [
  {
   "cell_type": "code",
   "execution_count": 1,
   "id": "41e066b1",
   "metadata": {
    "id": "41e066b1"
   },
   "outputs": [],
   "source": [
    "#conda install -c conda-forge catboost\n",
    "import numpy as np\n",
    "import sympy as sp\n",
    "import pandas as pd \n",
    "import matplotlib.pyplot as plt\n",
    "import pydotplus\n",
    "import graphviz\n",
    "from scipy import stats\n",
    "from sklearn import tree\n",
    "from sklearn.ensemble import RandomForestClassifier\n",
    "from sklearn.feature_selection import chi2\n",
    "from sklearn.model_selection import train_test_split\n",
    "from sklearn.model_selection import cross_val_score\n",
    "from sklearn.model_selection import cross_val_predict\n",
    "from sklearn.metrics import f1_score,accuracy_score \n",
    "from sklearn.naive_bayes import MultinomialNB\n",
    "from catboost import CatBoostClassifier "
   ]
  },
  {
   "cell_type": "markdown",
   "id": "1465b55b",
   "metadata": {
    "id": "1465b55b"
   },
   "source": [
    "# One Hot Encoding"
   ]
  },
  {
   "cell_type": "code",
   "execution_count": 2,
   "id": "a0d3fead",
   "metadata": {
    "id": "a0d3fead"
   },
   "outputs": [],
   "source": [
    "#read the after preprocessing dataset:\n",
    "df = pd.read_csv('data_after_preprocessing.csv')"
   ]
  },
  {
   "cell_type": "code",
   "execution_count": 3,
   "id": "d2aa2bf0",
   "metadata": {
    "id": "d2aa2bf0",
    "outputId": "25e1f481-dab6-4d5b-fe6d-e1efcd2cc435"
   },
   "outputs": [
    {
     "data": {
      "text/html": [
       "<div>\n",
       "<style scoped>\n",
       "    .dataframe tbody tr th:only-of-type {\n",
       "        vertical-align: middle;\n",
       "    }\n",
       "\n",
       "    .dataframe tbody tr th {\n",
       "        vertical-align: top;\n",
       "    }\n",
       "\n",
       "    .dataframe thead th {\n",
       "        text-align: right;\n",
       "    }\n",
       "</style>\n",
       "<table border=\"1\" class=\"dataframe\">\n",
       "  <thead>\n",
       "    <tr style=\"text-align: right;\">\n",
       "      <th></th>\n",
       "      <th>SUB1</th>\n",
       "      <th>HERFLG</th>\n",
       "      <th>ROUTE1</th>\n",
       "      <th>PSOURCE</th>\n",
       "      <th>ALCFLG</th>\n",
       "      <th>FREQ_ATND_SELF_HELP_D</th>\n",
       "      <th>DIVISION</th>\n",
       "      <th>SUB3</th>\n",
       "      <th>DSMCRIT</th>\n",
       "      <th>IDU</th>\n",
       "      <th>DROP</th>\n",
       "    </tr>\n",
       "  </thead>\n",
       "  <tbody>\n",
       "    <tr>\n",
       "      <th>0</th>\n",
       "      <td>2</td>\n",
       "      <td>0</td>\n",
       "      <td>1</td>\n",
       "      <td>1</td>\n",
       "      <td>1</td>\n",
       "      <td>1</td>\n",
       "      <td>9</td>\n",
       "      <td>1</td>\n",
       "      <td>4</td>\n",
       "      <td>0</td>\n",
       "      <td>1</td>\n",
       "    </tr>\n",
       "    <tr>\n",
       "      <th>1</th>\n",
       "      <td>2</td>\n",
       "      <td>0</td>\n",
       "      <td>1</td>\n",
       "      <td>1</td>\n",
       "      <td>1</td>\n",
       "      <td>2</td>\n",
       "      <td>9</td>\n",
       "      <td>10</td>\n",
       "      <td>4</td>\n",
       "      <td>0</td>\n",
       "      <td>0</td>\n",
       "    </tr>\n",
       "    <tr>\n",
       "      <th>2</th>\n",
       "      <td>5</td>\n",
       "      <td>1</td>\n",
       "      <td>4</td>\n",
       "      <td>1</td>\n",
       "      <td>0</td>\n",
       "      <td>1</td>\n",
       "      <td>9</td>\n",
       "      <td>1</td>\n",
       "      <td>5</td>\n",
       "      <td>1</td>\n",
       "      <td>0</td>\n",
       "    </tr>\n",
       "    <tr>\n",
       "      <th>3</th>\n",
       "      <td>5</td>\n",
       "      <td>1</td>\n",
       "      <td>2</td>\n",
       "      <td>1</td>\n",
       "      <td>0</td>\n",
       "      <td>1</td>\n",
       "      <td>8</td>\n",
       "      <td>4</td>\n",
       "      <td>5</td>\n",
       "      <td>0</td>\n",
       "      <td>0</td>\n",
       "    </tr>\n",
       "    <tr>\n",
       "      <th>4</th>\n",
       "      <td>5</td>\n",
       "      <td>1</td>\n",
       "      <td>4</td>\n",
       "      <td>1</td>\n",
       "      <td>0</td>\n",
       "      <td>1</td>\n",
       "      <td>9</td>\n",
       "      <td>19</td>\n",
       "      <td>5</td>\n",
       "      <td>1</td>\n",
       "      <td>0</td>\n",
       "    </tr>\n",
       "    <tr>\n",
       "      <th>...</th>\n",
       "      <td>...</td>\n",
       "      <td>...</td>\n",
       "      <td>...</td>\n",
       "      <td>...</td>\n",
       "      <td>...</td>\n",
       "      <td>...</td>\n",
       "      <td>...</td>\n",
       "      <td>...</td>\n",
       "      <td>...</td>\n",
       "      <td>...</td>\n",
       "      <td>...</td>\n",
       "    </tr>\n",
       "    <tr>\n",
       "      <th>60620</th>\n",
       "      <td>10</td>\n",
       "      <td>1</td>\n",
       "      <td>2</td>\n",
       "      <td>7</td>\n",
       "      <td>0</td>\n",
       "      <td>5</td>\n",
       "      <td>8</td>\n",
       "      <td>1</td>\n",
       "      <td>8</td>\n",
       "      <td>0</td>\n",
       "      <td>0</td>\n",
       "    </tr>\n",
       "    <tr>\n",
       "      <th>60621</th>\n",
       "      <td>10</td>\n",
       "      <td>0</td>\n",
       "      <td>3</td>\n",
       "      <td>7</td>\n",
       "      <td>0</td>\n",
       "      <td>5</td>\n",
       "      <td>8</td>\n",
       "      <td>1</td>\n",
       "      <td>8</td>\n",
       "      <td>0</td>\n",
       "      <td>1</td>\n",
       "    </tr>\n",
       "    <tr>\n",
       "      <th>60622</th>\n",
       "      <td>2</td>\n",
       "      <td>0</td>\n",
       "      <td>1</td>\n",
       "      <td>7</td>\n",
       "      <td>1</td>\n",
       "      <td>5</td>\n",
       "      <td>8</td>\n",
       "      <td>1</td>\n",
       "      <td>3</td>\n",
       "      <td>0</td>\n",
       "      <td>0</td>\n",
       "    </tr>\n",
       "    <tr>\n",
       "      <th>60623</th>\n",
       "      <td>4</td>\n",
       "      <td>0</td>\n",
       "      <td>2</td>\n",
       "      <td>7</td>\n",
       "      <td>0</td>\n",
       "      <td>1</td>\n",
       "      <td>8</td>\n",
       "      <td>1</td>\n",
       "      <td>10</td>\n",
       "      <td>0</td>\n",
       "      <td>0</td>\n",
       "    </tr>\n",
       "    <tr>\n",
       "      <th>60624</th>\n",
       "      <td>2</td>\n",
       "      <td>0</td>\n",
       "      <td>1</td>\n",
       "      <td>7</td>\n",
       "      <td>1</td>\n",
       "      <td>1</td>\n",
       "      <td>8</td>\n",
       "      <td>1</td>\n",
       "      <td>9</td>\n",
       "      <td>0</td>\n",
       "      <td>0</td>\n",
       "    </tr>\n",
       "  </tbody>\n",
       "</table>\n",
       "<p>60625 rows × 11 columns</p>\n",
       "</div>"
      ],
      "text/plain": [
       "       SUB1  HERFLG  ROUTE1  PSOURCE  ALCFLG  FREQ_ATND_SELF_HELP_D  DIVISION  \\\n",
       "0         2       0       1        1       1                      1         9   \n",
       "1         2       0       1        1       1                      2         9   \n",
       "2         5       1       4        1       0                      1         9   \n",
       "3         5       1       2        1       0                      1         8   \n",
       "4         5       1       4        1       0                      1         9   \n",
       "...     ...     ...     ...      ...     ...                    ...       ...   \n",
       "60620    10       1       2        7       0                      5         8   \n",
       "60621    10       0       3        7       0                      5         8   \n",
       "60622     2       0       1        7       1                      5         8   \n",
       "60623     4       0       2        7       0                      1         8   \n",
       "60624     2       0       1        7       1                      1         8   \n",
       "\n",
       "       SUB3  DSMCRIT  IDU  DROP  \n",
       "0         1        4    0     1  \n",
       "1        10        4    0     0  \n",
       "2         1        5    1     0  \n",
       "3         4        5    0     0  \n",
       "4        19        5    1     0  \n",
       "...     ...      ...  ...   ...  \n",
       "60620     1        8    0     0  \n",
       "60621     1        8    0     1  \n",
       "60622     1        3    0     0  \n",
       "60623     1       10    0     0  \n",
       "60624     1        9    0     0  \n",
       "\n",
       "[60625 rows x 11 columns]"
      ]
     },
     "execution_count": 3,
     "metadata": {},
     "output_type": "execute_result"
    }
   ],
   "source": [
    "df"
   ]
  },
  {
   "cell_type": "code",
   "execution_count": 4,
   "id": "494466af",
   "metadata": {
    "id": "494466af"
   },
   "outputs": [],
   "source": [
    "X = df.drop('DROP', axis = 1)\n",
    "Y = df['DROP']"
   ]
  },
  {
   "cell_type": "code",
   "execution_count": 5,
   "id": "67375977",
   "metadata": {
    "id": "67375977",
    "outputId": "72a7d805-9f07-4bcc-e690-4c91038db775"
   },
   "outputs": [
    {
     "data": {
      "text/html": [
       "<div>\n",
       "<style scoped>\n",
       "    .dataframe tbody tr th:only-of-type {\n",
       "        vertical-align: middle;\n",
       "    }\n",
       "\n",
       "    .dataframe tbody tr th {\n",
       "        vertical-align: top;\n",
       "    }\n",
       "\n",
       "    .dataframe thead th {\n",
       "        text-align: right;\n",
       "    }\n",
       "</style>\n",
       "<table border=\"1\" class=\"dataframe\">\n",
       "  <thead>\n",
       "    <tr style=\"text-align: right;\">\n",
       "      <th></th>\n",
       "      <th>SUB1_2</th>\n",
       "      <th>SUB1_3</th>\n",
       "      <th>SUB1_4</th>\n",
       "      <th>SUB1_5</th>\n",
       "      <th>SUB1_6</th>\n",
       "      <th>SUB1_7</th>\n",
       "      <th>SUB1_8</th>\n",
       "      <th>SUB1_9</th>\n",
       "      <th>SUB1_10</th>\n",
       "      <th>SUB1_11</th>\n",
       "      <th>...</th>\n",
       "      <th>DSMCRIT_12</th>\n",
       "      <th>DSMCRIT_13</th>\n",
       "      <th>DSMCRIT_14</th>\n",
       "      <th>DSMCRIT_15</th>\n",
       "      <th>DSMCRIT_16</th>\n",
       "      <th>DSMCRIT_17</th>\n",
       "      <th>DSMCRIT_18</th>\n",
       "      <th>DSMCRIT_19</th>\n",
       "      <th>IDU_0</th>\n",
       "      <th>IDU_1</th>\n",
       "    </tr>\n",
       "  </thead>\n",
       "  <tbody>\n",
       "    <tr>\n",
       "      <th>0</th>\n",
       "      <td>1</td>\n",
       "      <td>0</td>\n",
       "      <td>0</td>\n",
       "      <td>0</td>\n",
       "      <td>0</td>\n",
       "      <td>0</td>\n",
       "      <td>0</td>\n",
       "      <td>0</td>\n",
       "      <td>0</td>\n",
       "      <td>0</td>\n",
       "      <td>...</td>\n",
       "      <td>0</td>\n",
       "      <td>0</td>\n",
       "      <td>0</td>\n",
       "      <td>0</td>\n",
       "      <td>0</td>\n",
       "      <td>0</td>\n",
       "      <td>0</td>\n",
       "      <td>0</td>\n",
       "      <td>1</td>\n",
       "      <td>0</td>\n",
       "    </tr>\n",
       "    <tr>\n",
       "      <th>1</th>\n",
       "      <td>1</td>\n",
       "      <td>0</td>\n",
       "      <td>0</td>\n",
       "      <td>0</td>\n",
       "      <td>0</td>\n",
       "      <td>0</td>\n",
       "      <td>0</td>\n",
       "      <td>0</td>\n",
       "      <td>0</td>\n",
       "      <td>0</td>\n",
       "      <td>...</td>\n",
       "      <td>0</td>\n",
       "      <td>0</td>\n",
       "      <td>0</td>\n",
       "      <td>0</td>\n",
       "      <td>0</td>\n",
       "      <td>0</td>\n",
       "      <td>0</td>\n",
       "      <td>0</td>\n",
       "      <td>1</td>\n",
       "      <td>0</td>\n",
       "    </tr>\n",
       "    <tr>\n",
       "      <th>2</th>\n",
       "      <td>0</td>\n",
       "      <td>0</td>\n",
       "      <td>0</td>\n",
       "      <td>1</td>\n",
       "      <td>0</td>\n",
       "      <td>0</td>\n",
       "      <td>0</td>\n",
       "      <td>0</td>\n",
       "      <td>0</td>\n",
       "      <td>0</td>\n",
       "      <td>...</td>\n",
       "      <td>0</td>\n",
       "      <td>0</td>\n",
       "      <td>0</td>\n",
       "      <td>0</td>\n",
       "      <td>0</td>\n",
       "      <td>0</td>\n",
       "      <td>0</td>\n",
       "      <td>0</td>\n",
       "      <td>0</td>\n",
       "      <td>1</td>\n",
       "    </tr>\n",
       "    <tr>\n",
       "      <th>3</th>\n",
       "      <td>0</td>\n",
       "      <td>0</td>\n",
       "      <td>0</td>\n",
       "      <td>1</td>\n",
       "      <td>0</td>\n",
       "      <td>0</td>\n",
       "      <td>0</td>\n",
       "      <td>0</td>\n",
       "      <td>0</td>\n",
       "      <td>0</td>\n",
       "      <td>...</td>\n",
       "      <td>0</td>\n",
       "      <td>0</td>\n",
       "      <td>0</td>\n",
       "      <td>0</td>\n",
       "      <td>0</td>\n",
       "      <td>0</td>\n",
       "      <td>0</td>\n",
       "      <td>0</td>\n",
       "      <td>1</td>\n",
       "      <td>0</td>\n",
       "    </tr>\n",
       "    <tr>\n",
       "      <th>4</th>\n",
       "      <td>0</td>\n",
       "      <td>0</td>\n",
       "      <td>0</td>\n",
       "      <td>1</td>\n",
       "      <td>0</td>\n",
       "      <td>0</td>\n",
       "      <td>0</td>\n",
       "      <td>0</td>\n",
       "      <td>0</td>\n",
       "      <td>0</td>\n",
       "      <td>...</td>\n",
       "      <td>0</td>\n",
       "      <td>0</td>\n",
       "      <td>0</td>\n",
       "      <td>0</td>\n",
       "      <td>0</td>\n",
       "      <td>0</td>\n",
       "      <td>0</td>\n",
       "      <td>0</td>\n",
       "      <td>0</td>\n",
       "      <td>1</td>\n",
       "    </tr>\n",
       "    <tr>\n",
       "      <th>...</th>\n",
       "      <td>...</td>\n",
       "      <td>...</td>\n",
       "      <td>...</td>\n",
       "      <td>...</td>\n",
       "      <td>...</td>\n",
       "      <td>...</td>\n",
       "      <td>...</td>\n",
       "      <td>...</td>\n",
       "      <td>...</td>\n",
       "      <td>...</td>\n",
       "      <td>...</td>\n",
       "      <td>...</td>\n",
       "      <td>...</td>\n",
       "      <td>...</td>\n",
       "      <td>...</td>\n",
       "      <td>...</td>\n",
       "      <td>...</td>\n",
       "      <td>...</td>\n",
       "      <td>...</td>\n",
       "      <td>...</td>\n",
       "      <td>...</td>\n",
       "    </tr>\n",
       "    <tr>\n",
       "      <th>60620</th>\n",
       "      <td>0</td>\n",
       "      <td>0</td>\n",
       "      <td>0</td>\n",
       "      <td>0</td>\n",
       "      <td>0</td>\n",
       "      <td>0</td>\n",
       "      <td>0</td>\n",
       "      <td>0</td>\n",
       "      <td>1</td>\n",
       "      <td>0</td>\n",
       "      <td>...</td>\n",
       "      <td>0</td>\n",
       "      <td>0</td>\n",
       "      <td>0</td>\n",
       "      <td>0</td>\n",
       "      <td>0</td>\n",
       "      <td>0</td>\n",
       "      <td>0</td>\n",
       "      <td>0</td>\n",
       "      <td>1</td>\n",
       "      <td>0</td>\n",
       "    </tr>\n",
       "    <tr>\n",
       "      <th>60621</th>\n",
       "      <td>0</td>\n",
       "      <td>0</td>\n",
       "      <td>0</td>\n",
       "      <td>0</td>\n",
       "      <td>0</td>\n",
       "      <td>0</td>\n",
       "      <td>0</td>\n",
       "      <td>0</td>\n",
       "      <td>1</td>\n",
       "      <td>0</td>\n",
       "      <td>...</td>\n",
       "      <td>0</td>\n",
       "      <td>0</td>\n",
       "      <td>0</td>\n",
       "      <td>0</td>\n",
       "      <td>0</td>\n",
       "      <td>0</td>\n",
       "      <td>0</td>\n",
       "      <td>0</td>\n",
       "      <td>1</td>\n",
       "      <td>0</td>\n",
       "    </tr>\n",
       "    <tr>\n",
       "      <th>60622</th>\n",
       "      <td>1</td>\n",
       "      <td>0</td>\n",
       "      <td>0</td>\n",
       "      <td>0</td>\n",
       "      <td>0</td>\n",
       "      <td>0</td>\n",
       "      <td>0</td>\n",
       "      <td>0</td>\n",
       "      <td>0</td>\n",
       "      <td>0</td>\n",
       "      <td>...</td>\n",
       "      <td>0</td>\n",
       "      <td>0</td>\n",
       "      <td>0</td>\n",
       "      <td>0</td>\n",
       "      <td>0</td>\n",
       "      <td>0</td>\n",
       "      <td>0</td>\n",
       "      <td>0</td>\n",
       "      <td>1</td>\n",
       "      <td>0</td>\n",
       "    </tr>\n",
       "    <tr>\n",
       "      <th>60623</th>\n",
       "      <td>0</td>\n",
       "      <td>0</td>\n",
       "      <td>1</td>\n",
       "      <td>0</td>\n",
       "      <td>0</td>\n",
       "      <td>0</td>\n",
       "      <td>0</td>\n",
       "      <td>0</td>\n",
       "      <td>0</td>\n",
       "      <td>0</td>\n",
       "      <td>...</td>\n",
       "      <td>0</td>\n",
       "      <td>0</td>\n",
       "      <td>0</td>\n",
       "      <td>0</td>\n",
       "      <td>0</td>\n",
       "      <td>0</td>\n",
       "      <td>0</td>\n",
       "      <td>0</td>\n",
       "      <td>1</td>\n",
       "      <td>0</td>\n",
       "    </tr>\n",
       "    <tr>\n",
       "      <th>60624</th>\n",
       "      <td>1</td>\n",
       "      <td>0</td>\n",
       "      <td>0</td>\n",
       "      <td>0</td>\n",
       "      <td>0</td>\n",
       "      <td>0</td>\n",
       "      <td>0</td>\n",
       "      <td>0</td>\n",
       "      <td>0</td>\n",
       "      <td>0</td>\n",
       "      <td>...</td>\n",
       "      <td>0</td>\n",
       "      <td>0</td>\n",
       "      <td>0</td>\n",
       "      <td>0</td>\n",
       "      <td>0</td>\n",
       "      <td>0</td>\n",
       "      <td>0</td>\n",
       "      <td>0</td>\n",
       "      <td>1</td>\n",
       "      <td>0</td>\n",
       "    </tr>\n",
       "  </tbody>\n",
       "</table>\n",
       "<p>60625 rows × 89 columns</p>\n",
       "</div>"
      ],
      "text/plain": [
       "       SUB1_2  SUB1_3  SUB1_4  SUB1_5  SUB1_6  SUB1_7  SUB1_8  SUB1_9  \\\n",
       "0           1       0       0       0       0       0       0       0   \n",
       "1           1       0       0       0       0       0       0       0   \n",
       "2           0       0       0       1       0       0       0       0   \n",
       "3           0       0       0       1       0       0       0       0   \n",
       "4           0       0       0       1       0       0       0       0   \n",
       "...       ...     ...     ...     ...     ...     ...     ...     ...   \n",
       "60620       0       0       0       0       0       0       0       0   \n",
       "60621       0       0       0       0       0       0       0       0   \n",
       "60622       1       0       0       0       0       0       0       0   \n",
       "60623       0       0       1       0       0       0       0       0   \n",
       "60624       1       0       0       0       0       0       0       0   \n",
       "\n",
       "       SUB1_10  SUB1_11  ...  DSMCRIT_12  DSMCRIT_13  DSMCRIT_14  DSMCRIT_15  \\\n",
       "0            0        0  ...           0           0           0           0   \n",
       "1            0        0  ...           0           0           0           0   \n",
       "2            0        0  ...           0           0           0           0   \n",
       "3            0        0  ...           0           0           0           0   \n",
       "4            0        0  ...           0           0           0           0   \n",
       "...        ...      ...  ...         ...         ...         ...         ...   \n",
       "60620        1        0  ...           0           0           0           0   \n",
       "60621        1        0  ...           0           0           0           0   \n",
       "60622        0        0  ...           0           0           0           0   \n",
       "60623        0        0  ...           0           0           0           0   \n",
       "60624        0        0  ...           0           0           0           0   \n",
       "\n",
       "       DSMCRIT_16  DSMCRIT_17  DSMCRIT_18  DSMCRIT_19  IDU_0  IDU_1  \n",
       "0               0           0           0           0      1      0  \n",
       "1               0           0           0           0      1      0  \n",
       "2               0           0           0           0      0      1  \n",
       "3               0           0           0           0      1      0  \n",
       "4               0           0           0           0      0      1  \n",
       "...           ...         ...         ...         ...    ...    ...  \n",
       "60620           0           0           0           0      1      0  \n",
       "60621           0           0           0           0      1      0  \n",
       "60622           0           0           0           0      1      0  \n",
       "60623           0           0           0           0      1      0  \n",
       "60624           0           0           0           0      1      0  \n",
       "\n",
       "[60625 rows x 89 columns]"
      ]
     },
     "execution_count": 5,
     "metadata": {},
     "output_type": "execute_result"
    }
   ],
   "source": [
    "# generate binary values using get_dummies\n",
    "X_dum = pd.get_dummies(X, columns=X.columns)\n",
    "X_dum"
   ]
  },
  {
   "cell_type": "code",
   "execution_count": 6,
   "id": "3ad8fdbb",
   "metadata": {
    "id": "3ad8fdbb"
   },
   "outputs": [],
   "source": [
    "#Split the dataset into training set and testing set\n",
    "X_train, X_test, Y_train, Y_test = train_test_split(X_dum, Y, test_size=0.3, random_state=0)"
   ]
  },
  {
   "cell_type": "markdown",
   "id": "d40a33f1",
   "metadata": {
    "id": "d40a33f1"
   },
   "source": [
    "# Decision Tree"
   ]
  },
  {
   "cell_type": "code",
   "execution_count": 7,
   "id": "bfb3dc0c",
   "metadata": {
    "id": "bfb3dc0c"
   },
   "outputs": [],
   "source": [
    "#Applied the training set to decision tree model \n",
    "clf=tree.DecisionTreeClassifier(criterion='entropy')\n",
    "model=clf.fit(X_train, Y_train)"
   ]
  },
  {
   "cell_type": "code",
   "execution_count": 8,
   "id": "44c53968",
   "metadata": {
    "id": "44c53968",
    "outputId": "82676a66-6efb-4af3-87b4-3503c1eb2528"
   },
   "outputs": [
    {
     "data": {
      "text/plain": [
       "array([1, 1, 0, ..., 1, 0, 1], dtype=int64)"
      ]
     },
     "execution_count": 8,
     "metadata": {},
     "output_type": "execute_result"
    }
   ],
   "source": [
    "#Predict instances' class from the testing set \n",
    "predict=clf.predict(X_test)\n",
    "predict"
   ]
  },
  {
   "cell_type": "code",
   "execution_count": 9,
   "id": "3ea71199",
   "metadata": {
    "id": "3ea71199",
    "outputId": "74e319d4-960c-4439-c269-fa8005b96e93"
   },
   "outputs": [
    {
     "name": "stdout",
     "output_type": "stream",
     "text": [
      "The proportion of correctly categorizing cases, in testing set: 0.7279524961513085\n"
     ]
    }
   ],
   "source": [
    "print('The proportion of correctly categorizing cases, in testing set:',accuracy_score(Y_test,predict))"
   ]
  },
  {
   "cell_type": "code",
   "execution_count": 10,
   "id": "17b6489a",
   "metadata": {
    "id": "17b6489a",
    "outputId": "545702f1-1ae0-48be-ec21-1ad1feb94cfa"
   },
   "outputs": [
    {
     "name": "stdout",
     "output_type": "stream",
     "text": [
      "The f1 score of decision tree model is 0.8125047366426678\n"
     ]
    }
   ],
   "source": [
    "print('The f1 score of decision tree model is',f1_score(Y_test,predict))"
   ]
  },
  {
   "cell_type": "code",
   "execution_count": 11,
   "id": "c1391248",
   "metadata": {
    "id": "c1391248",
    "outputId": "6d18295a-691a-472f-b7b9-58f18cab35f3"
   },
   "outputs": [
    {
     "name": "stdout",
     "output_type": "stream",
     "text": [
      "The model accuracy rates of 10 k_fold cross validations:\n",
      " [0.72478794 0.73162111 0.73114986 0.72596607 0.72408106 0.72196041\n",
      " 0.72761546 0.73226491 0.72095216 0.7216592 ]\n"
     ]
    }
   ],
   "source": [
    "k_fold=cross_val_score(model,X_train, Y_train,cv=10)\n",
    "print('The model accuracy rates of 10 k_fold cross validations:\\n',k_fold)"
   ]
  },
  {
   "cell_type": "code",
   "execution_count": 12,
   "id": "01c265dd",
   "metadata": {
    "id": "01c265dd",
    "outputId": "d1e826f7-4372-4d46-8faf-f6d25da20be9"
   },
   "outputs": [
    {
     "name": "stdout",
     "output_type": "stream",
     "text": [
      "The average model accuracy rates over 10 k_fold cross validations:\n",
      " 0.7262058170656643\n"
     ]
    }
   ],
   "source": [
    "print('The average model accuracy rates over 10 k_fold cross validations:\\n'\n",
    "      ,np.mean(k_fold))"
   ]
  },
  {
   "cell_type": "code",
   "execution_count": 15,
   "id": "a54daccc",
   "metadata": {
    "id": "a54daccc",
    "outputId": "932270b3-0e84-4bf7-f3cd-d08adaa596d7"
   },
   "outputs": [
    {
     "name": "stdout",
     "output_type": "stream",
     "text": [
      "\r\n",
      "(process:2572): GLib-GIO-WARNING **: 16:12:16.891: Unexpectedly, UWP app `Evernote.Evernote_10.49.4.0_x64__q4d96b2w5wcc2' (AUMId `Evernote.Evernote_q4d96b2w5wcc2!Evernote') supports 1 extensions but has no verbs\r\n",
      "\n"
     ]
    },
    {
     "data": {
      "text/plain": [
       "True"
      ]
     },
     "execution_count": 15,
     "metadata": {},
     "output_type": "execute_result"
    }
   ],
   "source": [
    "dot_data=tree.export_graphviz(clf,out_file=None,\n",
    "                              feature_names=X_dum.columns)\n",
    "graph=pydotplus.graph_from_dot_data(dot_data)\n",
    "graph.write_pdf('decision_tree_full.pdf')"
   ]
  },
  {
   "cell_type": "markdown",
   "id": "d45579a0",
   "metadata": {
    "id": "d45579a0"
   },
   "source": [
    "# Trimmed Decision Tree, 10 leyers"
   ]
  },
  {
   "cell_type": "code",
   "execution_count": 16,
   "id": "68d64036",
   "metadata": {
    "id": "68d64036"
   },
   "outputs": [],
   "source": [
    "#Construct a pre-pruning decision tree, set the limitation of leyers to 10:\n",
    "clf=tree.DecisionTreeClassifier(criterion='entropy',max_depth=10)\n",
    "model=clf.fit(X_train, Y_train)"
   ]
  },
  {
   "cell_type": "code",
   "execution_count": 17,
   "id": "c8360274",
   "metadata": {
    "id": "c8360274",
    "outputId": "765927da-30c1-4560-e6a5-28ef298b17ca"
   },
   "outputs": [
    {
     "data": {
      "text/plain": [
       "array([1, 1, 0, ..., 1, 1, 1], dtype=int64)"
      ]
     },
     "execution_count": 17,
     "metadata": {},
     "output_type": "execute_result"
    }
   ],
   "source": [
    "#Predict instances' class from the testing set \n",
    "predict=clf.predict(X_test)\n",
    "predict"
   ]
  },
  {
   "cell_type": "code",
   "execution_count": 18,
   "id": "618c62e5",
   "metadata": {
    "id": "618c62e5",
    "outputId": "7d9a86f0-1dd1-4166-e959-65f4724aeca7"
   },
   "outputs": [
    {
     "name": "stdout",
     "output_type": "stream",
     "text": [
      "The proportion of correctly categorizing cases, in testing set (10-leyer tree):\n",
      " 0.7418627666593358\n"
     ]
    }
   ],
   "source": [
    "print('The proportion of correctly categorizing cases, in testing set (10-leyer tree):\\n',accuracy_score(Y_test,predict))"
   ]
  },
  {
   "cell_type": "code",
   "execution_count": 19,
   "id": "c2768951",
   "metadata": {
    "id": "c2768951",
    "outputId": "72360062-5a26-4a21-8270-4788c7fab807"
   },
   "outputs": [
    {
     "name": "stdout",
     "output_type": "stream",
     "text": [
      "The f1 score of 10-leyer decision tree model is 0.8320154567247486\n"
     ]
    }
   ],
   "source": [
    "print('The f1 score of 10-leyer decision tree model is',f1_score(Y_test,predict))"
   ]
  },
  {
   "cell_type": "code",
   "execution_count": 20,
   "id": "f65b0c3e",
   "metadata": {
    "id": "f65b0c3e",
    "outputId": "35456f11-e864-47e7-a615-8b8c5aea9d0b"
   },
   "outputs": [
    {
     "name": "stdout",
     "output_type": "stream",
     "text": [
      "The model accuracy rates of 10 k_fold cross validations (10-leyer tree):\n",
      " [0.73986805 0.75094251 0.75023563 0.73350613 0.73798303 0.74057493\n",
      " 0.74340245 0.75041244 0.73839265 0.74546312]\n"
     ]
    }
   ],
   "source": [
    "k_fold=cross_val_score(model,X_train, Y_train,cv=10)\n",
    "print('The model accuracy rates of 10 k_fold cross validations (10-leyer tree):\\n',k_fold)"
   ]
  },
  {
   "cell_type": "code",
   "execution_count": 21,
   "id": "73de1eb6",
   "metadata": {
    "id": "73de1eb6",
    "outputId": "00d8b9b9-088a-45e4-ab3d-0baf99d339c3"
   },
   "outputs": [
    {
     "name": "stdout",
     "output_type": "stream",
     "text": [
      "The average model accuracy rates over 10 k_fold cross validations (10-leyer tree): 0.7430780930303125\n"
     ]
    }
   ],
   "source": [
    "print('The average model accuracy rates over 10 k_fold cross validations (10-leyer tree):'\n",
    "      ,np.mean(k_fold))"
   ]
  },
  {
   "cell_type": "code",
   "execution_count": 22,
   "id": "07c41236",
   "metadata": {
    "id": "07c41236",
    "outputId": "4e82744f-78d7-4b81-af7e-f8979cb86f94"
   },
   "outputs": [
    {
     "data": {
      "text/plain": [
       "True"
      ]
     },
     "execution_count": 22,
     "metadata": {},
     "output_type": "execute_result"
    }
   ],
   "source": [
    "dot_data=tree.export_graphviz(clf,out_file=None,\n",
    "                              feature_names=X_dum.columns)\n",
    "graph=pydotplus.graph_from_dot_data(dot_data)\n",
    "graph.write_pdf('decision_tree_max10.pdf')"
   ]
  },
  {
   "cell_type": "markdown",
   "id": "7cf31d86",
   "metadata": {
    "id": "7cf31d86"
   },
   "source": [
    "# Trimmed Decision Tree, 7 leyers"
   ]
  },
  {
   "cell_type": "code",
   "execution_count": 23,
   "id": "ecd257dc",
   "metadata": {
    "executionInfo": {
     "elapsed": 213,
     "status": "ok",
     "timestamp": 1670285248819,
     "user": {
      "displayName": "Changyi Liu",
      "userId": "09936428258129726458"
     },
     "user_tz": 480
    },
    "id": "ecd257dc"
   },
   "outputs": [],
   "source": [
    "#Construct a pre-pruning decision tree, set the limitation of leyers to 7:\n",
    "clf=tree.DecisionTreeClassifier(criterion='entropy',max_depth=7)\n",
    "model=clf.fit(X_train, Y_train)"
   ]
  },
  {
   "cell_type": "code",
   "execution_count": 24,
   "id": "1483c044",
   "metadata": {
    "executionInfo": {
     "elapsed": 257,
     "status": "ok",
     "timestamp": 1670285257174,
     "user": {
      "displayName": "Changyi Liu",
      "userId": "09936428258129726458"
     },
     "user_tz": 480
    },
    "id": "1483c044"
   },
   "outputs": [
    {
     "data": {
      "text/plain": [
       "array([1, 1, 0, ..., 1, 1, 1], dtype=int64)"
      ]
     },
     "execution_count": 24,
     "metadata": {},
     "output_type": "execute_result"
    }
   ],
   "source": [
    "#Predict instances' class from the testing set \n",
    "predict=clf.predict(X_test)\n",
    "predict"
   ]
  },
  {
   "cell_type": "code",
   "execution_count": 25,
   "id": "a85f6351",
   "metadata": {
    "id": "a85f6351"
   },
   "outputs": [
    {
     "name": "stdout",
     "output_type": "stream",
     "text": [
      "The proportion of correctly categorizing cases, in testing set (7-leyer tree):\n",
      " 0.7385638882779855\n"
     ]
    }
   ],
   "source": [
    "print('The proportion of correctly categorizing cases, in testing set (7-leyer tree):\\n',accuracy_score(Y_test,predict))"
   ]
  },
  {
   "cell_type": "code",
   "execution_count": 26,
   "id": "60f15733",
   "metadata": {
    "id": "60f15733"
   },
   "outputs": [
    {
     "name": "stdout",
     "output_type": "stream",
     "text": [
      "The f1 score of 7-leyer decision tree model is 0.8330934746744357\n"
     ]
    }
   ],
   "source": [
    "print('The f1 score of 7-leyer decision tree model is',f1_score(Y_test,predict))"
   ]
  },
  {
   "cell_type": "code",
   "execution_count": 27,
   "id": "5d1291cf",
   "metadata": {
    "executionInfo": {
     "elapsed": 237,
     "status": "ok",
     "timestamp": 1670285263998,
     "user": {
      "displayName": "Changyi Liu",
      "userId": "09936428258129726458"
     },
     "user_tz": 480
    },
    "id": "5d1291cf"
   },
   "outputs": [
    {
     "name": "stdout",
     "output_type": "stream",
     "text": [
      "The model accuracy rates of 10 k_fold cross validations (7-leyer tree):\n",
      " [0.74245994 0.7438737  0.75259189 0.73279925 0.73114986 0.74081056\n",
      " 0.7368049  0.74664153 0.73650719 0.74122083]\n"
     ]
    }
   ],
   "source": [
    "k_fold=cross_val_score(model,X_train, Y_train,cv=10)\n",
    "print('The model accuracy rates of 10 k_fold cross validations (7-leyer tree):\\n',k_fold)"
   ]
  },
  {
   "cell_type": "code",
   "execution_count": 28,
   "id": "58120176",
   "metadata": {
    "id": "58120176"
   },
   "outputs": [
    {
     "name": "stdout",
     "output_type": "stream",
     "text": [
      "The average model accuracy rates over 10 k_fold cross validations (7-leyer tree): 0.7404859653522584\n"
     ]
    }
   ],
   "source": [
    "print('The average model accuracy rates over 10 k_fold cross validations (7-leyer tree):'\n",
    "      ,np.mean(k_fold))"
   ]
  },
  {
   "cell_type": "code",
   "execution_count": 29,
   "id": "65e8bafb",
   "metadata": {
    "id": "65e8bafb"
   },
   "outputs": [
    {
     "data": {
      "text/plain": [
       "True"
      ]
     },
     "execution_count": 29,
     "metadata": {},
     "output_type": "execute_result"
    }
   ],
   "source": [
    "dot_data=tree.export_graphviz(clf,out_file=None,\n",
    "                              feature_names=X_dum.columns)\n",
    "graph=pydotplus.graph_from_dot_data(dot_data)\n",
    "graph.write_pdf('decision_tree_max7.pdf')"
   ]
  },
  {
   "cell_type": "markdown",
   "id": "5524871a",
   "metadata": {
    "id": "5524871a"
   },
   "source": [
    "# Random Forest"
   ]
  },
  {
   "cell_type": "code",
   "execution_count": 30,
   "id": "8a767a4b",
   "metadata": {
    "id": "8a767a4b",
    "outputId": "84102403-3d78-4a3d-b906-880866c0d897"
   },
   "outputs": [
    {
     "data": {
      "text/plain": [
       "RandomForestClassifier(n_estimators=1000, random_state=50)"
      ]
     },
     "execution_count": 30,
     "metadata": {},
     "output_type": "execute_result"
    }
   ],
   "source": [
    "#Construct a random forest model with number of decision trees=1000\n",
    "rf=RandomForestClassifier(n_estimators=1000,random_state=50)\n",
    "rf.fit(X_train,Y_train)"
   ]
  },
  {
   "cell_type": "code",
   "execution_count": 31,
   "id": "f0f382a4",
   "metadata": {
    "id": "f0f382a4"
   },
   "outputs": [],
   "source": [
    "predict = rf.predict(X_test)"
   ]
  },
  {
   "cell_type": "code",
   "execution_count": 32,
   "id": "e30b102e",
   "metadata": {
    "id": "e30b102e",
    "outputId": "0789d153-176c-4155-c10b-45d30951f5a2"
   },
   "outputs": [
    {
     "name": "stdout",
     "output_type": "stream",
     "text": [
      "The proportion of correctly categorizing cases, in testing set (random forest):\n",
      " 0.7394435891796789\n"
     ]
    }
   ],
   "source": [
    "print('The proportion of correctly categorizing cases, in testing set (random forest):\\n',rf.score(X_test,Y_test))"
   ]
  },
  {
   "cell_type": "code",
   "execution_count": 33,
   "id": "f8e8c334",
   "metadata": {
    "id": "f8e8c334",
    "outputId": "798bd7ef-06df-4e9f-c227-d3952a339abe"
   },
   "outputs": [
    {
     "name": "stdout",
     "output_type": "stream",
     "text": [
      "The f1 score of random forest is 0.8253160824210255\n"
     ]
    }
   ],
   "source": [
    "print('The f1 score of random forest is',f1_score(Y_test,predict))"
   ]
  },
  {
   "cell_type": "code",
   "execution_count": 34,
   "id": "367d2e06",
   "metadata": {
    "id": "367d2e06",
    "outputId": "8125ec58-38c4-4e9c-aacf-dc3a66bcb2da"
   },
   "outputs": [
    {
     "name": "stdout",
     "output_type": "stream",
     "text": [
      "[3.01783427e-02 7.17194287e-03 8.65737381e-03 1.32291361e-02\n",
      " 8.20512409e-04 8.58825049e-03 1.28504458e-03 9.40696508e-04\n",
      " 1.36584491e-02 3.98360517e-03 8.99881705e-04 2.86559263e-03\n",
      " 9.98100813e-05 1.81656675e-05 7.01171496e-04 3.64130168e-04\n",
      " 4.32545128e-04 3.31975103e-03 1.41349958e-02 1.55826823e-02\n",
      " 2.70580005e-02 1.61895307e-02 1.28624744e-02 8.63881855e-03\n",
      " 4.24241040e-03 3.43916663e-02 1.43780529e-02 1.47768640e-02\n",
      " 3.36806456e-03 3.35741535e-03 1.74839761e-02 3.81056110e-02\n",
      " 2.27173559e-02 2.30565631e-02 6.07260807e-02 2.18736283e-02\n",
      " 1.22561986e-02 3.29201822e-02 6.71920748e-03 6.65038243e-04\n",
      " 9.61837474e-03 1.81100809e-02 2.85480735e-02 2.34402452e-02\n",
      " 1.11951075e-02 3.02804258e-02 1.74544716e-02 2.74471541e-02\n",
      " 1.71528901e-02 3.32201807e-02 1.06176692e-02 1.18681301e-02\n",
      " 1.90040968e-02 4.64861461e-03 7.00694436e-04 9.03814316e-03\n",
      " 6.40048702e-04 2.65179736e-03 9.47172021e-03 3.21465470e-03\n",
      " 6.35384202e-03 8.21257077e-03 7.79352118e-05 4.76673389e-04\n",
      " 1.62917661e-03 3.60096555e-04 3.75446343e-04 8.69080211e-03\n",
      " 1.64877320e-03 1.22804887e-02 2.65979587e-02 1.61099189e-02\n",
      " 2.24407750e-02 7.93733247e-03 9.94202257e-03 1.76091271e-02\n",
      " 6.39748852e-03 6.55030221e-03 7.51104734e-03 5.55721263e-03\n",
      " 2.54572803e-03 3.06784014e-03 3.59181997e-03 2.32047004e-03\n",
      " 2.29400735e-03 5.19279858e-04 3.97096719e-03 1.19811711e-02\n",
      " 1.19079336e-02]\n"
     ]
    }
   ],
   "source": [
    "#Calculate the influences of each attribute imposing to the classification result\n",
    "imp=rf.feature_importances_\n",
    "print(imp)"
   ]
  },
  {
   "cell_type": "code",
   "execution_count": 35,
   "id": "0fadc637",
   "metadata": {
    "id": "0fadc637"
   },
   "outputs": [],
   "source": [
    "feature_names=X_dum.columns"
   ]
  },
  {
   "cell_type": "code",
   "execution_count": 36,
   "id": "7ec9c66b",
   "metadata": {
    "id": "7ec9c66b",
    "outputId": "b0f875e9-cc4e-4a18-e1ea-bed1dfb9211b"
   },
   "outputs": [
    {
     "data": {
      "text/plain": [
       "<function matplotlib.pyplot.show(close=None, block=None)>"
      ]
     },
     "execution_count": 36,
     "metadata": {},
     "output_type": "execute_result"
    },
    {
     "data": {
      "image/png": "[encoded data removed]",
      "text/plain": [
       "<Figure size 640x480 with 1 Axes>"
      ]
     },
     "metadata": {},
     "output_type": "display_data"
    },
    {
     "data": {
      "text/plain": [
       "<Figure size 2000x2200 with 0 Axes>"
      ]
     },
     "metadata": {},
     "output_type": "display_data"
    }
   ],
   "source": [
    "#Visualize the influences (importances) of each attribute \n",
    "zip(imp[0:20],feature_names)\n",
    "imp,feature_names=zip(*sorted(zip(imp[0:20],feature_names)))\n",
    "plt.barh(range(len(feature_names)),imp,align='center')\n",
    "plt.yticks(range(len(feature_names)),feature_names)\n",
    "plt.ylabel('Features')\n",
    "plt.xlabel('Importance')\n",
    "plt.title('Importance of Different Features')\n",
    "plt.figure(figsize=(20,22))\n",
    "plt.show "
   ]
  },
  {
   "cell_type": "markdown",
   "id": "6307bb4d",
   "metadata": {
    "id": "6307bb4d"
   },
   "source": [
    "# Naive Bayesian Classifier: Multinomial"
   ]
  },
  {
   "cell_type": "code",
   "execution_count": 37,
   "id": "747afc00",
   "metadata": {
    "id": "747afc00",
    "outputId": "28cac744-60c3-47d9-db30-f3423569f835"
   },
   "outputs": [
    {
     "data": {
      "text/plain": [
       "MultinomialNB()"
      ]
     },
     "execution_count": 37,
     "metadata": {},
     "output_type": "execute_result"
    }
   ],
   "source": [
    "#Construct a Multinomial Naive Bayes classifier:\n",
    "model=MultinomialNB()\n",
    "model.fit(X_train, Y_train)"
   ]
  },
  {
   "cell_type": "code",
   "execution_count": 38,
   "id": "2769e888",
   "metadata": {
    "id": "2769e888"
   },
   "outputs": [],
   "source": [
    "predict = model.predict(X_test)"
   ]
  },
  {
   "cell_type": "code",
   "execution_count": 39,
   "id": "bf287098",
   "metadata": {
    "id": "bf287098",
    "outputId": "821d1cee-7f87-4cd1-b23a-c94f96d3a7fd"
   },
   "outputs": [
    {
     "data": {
      "text/plain": [
       "array([[0.01483096, 0.98516904],\n",
       "       [0.03353512, 0.96646488],\n",
       "       [0.93367233, 0.06632767],\n",
       "       ...,\n",
       "       [0.25883684, 0.74116316],\n",
       "       [0.02040189, 0.97959811],\n",
       "       [0.01483096, 0.98516904]])"
      ]
     },
     "execution_count": 39,
     "metadata": {},
     "output_type": "execute_result"
    }
   ],
   "source": [
    "#Every instance's probability of being categorized to two different classes\n",
    "model.predict_proba(X_test)"
   ]
  },
  {
   "cell_type": "code",
   "execution_count": 40,
   "id": "8db66fe3",
   "metadata": {
    "id": "8db66fe3",
    "outputId": "b240be02-3e56-465c-99b7-a453334868b9"
   },
   "outputs": [
    {
     "name": "stdout",
     "output_type": "stream",
     "text": [
      "The proportion of correctly categorizing cases, in testing set (Multinomial Naive Bayes):\n",
      " 0.6760501429513965\n"
     ]
    }
   ],
   "source": [
    "print('The proportion of correctly categorizing cases, in testing set (Multinomial Naive Bayes):\\n',accuracy_score(Y_test,predict))"
   ]
  },
  {
   "cell_type": "code",
   "execution_count": 41,
   "id": "7e4fea5e",
   "metadata": {
    "id": "7e4fea5e",
    "outputId": "dde738ac-1228-4deb-c4a7-4aed5afa3ebb"
   },
   "outputs": [
    {
     "name": "stdout",
     "output_type": "stream",
     "text": [
      "The f1 score of Multinomial Naive Bayes model is 0.7615154213551364\n"
     ]
    }
   ],
   "source": [
    "print('The f1 score of Multinomial Naive Bayes model is',f1_score(Y_test,predict))"
   ]
  },
  {
   "cell_type": "code",
   "execution_count": 42,
   "id": "b6b22e34",
   "metadata": {
    "id": "b6b22e34",
    "outputId": "84cd36ba-a97b-419a-9144-74975c3ec1ec"
   },
   "outputs": [
    {
     "name": "stdout",
     "output_type": "stream",
     "text": [
      "The model accuracy rates of 10 k_fold cross validations (Naive Bayes):\n",
      " [0.66140434 0.67884072 0.67130066 0.67389255 0.65292177 0.667295\n",
      " 0.66352498 0.68512845 0.67428706 0.66320999]\n"
     ]
    }
   ],
   "source": [
    "k_fold=cross_val_score(model,X_train, Y_train,cv=10)\n",
    "print('The model accuracy rates of 10 k_fold cross validations (Naive Bayes):\\n',k_fold)"
   ]
  },
  {
   "cell_type": "code",
   "execution_count": 43,
   "id": "fc7aaa61",
   "metadata": {
    "id": "fc7aaa61",
    "outputId": "96c76932-a7ab-4339-bd45-5c9fdfefe6fa"
   },
   "outputs": [
    {
     "name": "stdout",
     "output_type": "stream",
     "text": [
      "The average model accuracy rates over 10 k_fold cross validations (Naive Bayes): 0.6691805519675029\n"
     ]
    }
   ],
   "source": [
    "print('The average model accuracy rates over 10 k_fold cross validations (Naive Bayes):'\n",
    "      ,np.mean(k_fold))"
   ]
  },
  {
   "cell_type": "markdown",
   "id": "6b059ab2",
   "metadata": {
    "id": "6b059ab2"
   },
   "source": [
    "# Catboost "
   ]
  },
  {
   "cell_type": "code",
   "execution_count": 44,
   "id": "bcba67db",
   "metadata": {
    "colab": {
     "referenced_widgets": [
      "15831b461c7d4491939c37bf1188f278"
     ]
    },
    "id": "bcba67db",
    "outputId": "bee3c07b-b2e3-4e88-d095-6ed8ec9fbdd1"
   },
   "outputs": [
    {
     "data": {
      "application/vnd.jupyter.widget-view+json": {
       "model_id": "e500247460ca40f88418c90413a1bf76",
       "version_major": 2,
       "version_minor": 0
      },
      "text/plain": [
       "MetricVisualizer(layout=Layout(align_self='stretch', height='500px'))"
      ]
     },
     "metadata": {},
     "output_type": "display_data"
    },
    {
     "name": "stdout",
     "output_type": "stream",
     "text": [
      "Learning rate set to 0.217752\n",
      "0:\tlearn: 0.8249352\ttest: 0.8242378\tbest: 0.8242378 (0)\ttotal: 144ms\tremaining: 14.2s\n",
      "1:\tlearn: 0.8260591\ttest: 0.8252664\tbest: 0.8252664 (1)\ttotal: 154ms\tremaining: 7.52s\n",
      "2:\tlearn: 0.8280257\ttest: 0.8275594\tbest: 0.8275594 (2)\ttotal: 164ms\tremaining: 5.29s\n",
      "3:\tlearn: 0.8305156\ttest: 0.8306718\tbest: 0.8306718 (3)\ttotal: 173ms\tremaining: 4.15s\n",
      "4:\tlearn: 0.8316699\ttest: 0.8320595\tbest: 0.8320595 (4)\ttotal: 181ms\tremaining: 3.44s\n",
      "5:\tlearn: 0.8320620\ttest: 0.8320701\tbest: 0.8320701 (5)\ttotal: 191ms\tremaining: 3s\n",
      "6:\tlearn: 0.8331808\ttest: 0.8329031\tbest: 0.8329031 (6)\ttotal: 202ms\tremaining: 2.68s\n",
      "7:\tlearn: 0.8331633\ttest: 0.8330195\tbest: 0.8330195 (7)\ttotal: 208ms\tremaining: 2.4s\n",
      "8:\tlearn: 0.8332907\ttest: 0.8329083\tbest: 0.8330195 (7)\ttotal: 218ms\tremaining: 2.21s\n",
      "9:\tlearn: 0.8331019\ttest: 0.8333917\tbest: 0.8333917 (9)\ttotal: 228ms\tremaining: 2.05s\n",
      "10:\tlearn: 0.8333661\ttest: 0.8337777\tbest: 0.8337777 (10)\ttotal: 238ms\tremaining: 1.92s\n",
      "11:\tlearn: 0.8336520\ttest: 0.8333275\tbest: 0.8337777 (10)\ttotal: 251ms\tremaining: 1.84s\n",
      "12:\tlearn: 0.8339178\ttest: 0.8335564\tbest: 0.8337777 (10)\ttotal: 260ms\tremaining: 1.74s\n",
      "13:\tlearn: 0.8346058\ttest: 0.8338620\tbest: 0.8338620 (13)\ttotal: 269ms\tremaining: 1.65s\n",
      "14:\tlearn: 0.8345413\ttest: 0.8336501\tbest: 0.8338620 (13)\ttotal: 277ms\tremaining: 1.57s\n",
      "15:\tlearn: 0.8350730\ttest: 0.8338096\tbest: 0.8338620 (13)\ttotal: 288ms\tremaining: 1.51s\n",
      "16:\tlearn: 0.8352440\ttest: 0.8339332\tbest: 0.8339332 (16)\ttotal: 296ms\tremaining: 1.45s\n",
      "17:\tlearn: 0.8356054\ttest: 0.8348446\tbest: 0.8348446 (17)\ttotal: 304ms\tremaining: 1.39s\n",
      "18:\tlearn: 0.8358404\ttest: 0.8350949\tbest: 0.8350949 (18)\ttotal: 313ms\tremaining: 1.33s\n",
      "19:\tlearn: 0.8356885\ttest: 0.8351796\tbest: 0.8351796 (19)\ttotal: 322ms\tremaining: 1.29s\n",
      "20:\tlearn: 0.8356952\ttest: 0.8349329\tbest: 0.8351796 (19)\ttotal: 330ms\tremaining: 1.24s\n",
      "21:\tlearn: 0.8360981\ttest: 0.8351267\tbest: 0.8351796 (19)\ttotal: 339ms\tremaining: 1.2s\n",
      "22:\tlearn: 0.8362925\ttest: 0.8354601\tbest: 0.8354601 (22)\ttotal: 349ms\tremaining: 1.17s\n",
      "23:\tlearn: 0.8364814\ttest: 0.8356145\tbest: 0.8356145 (23)\ttotal: 357ms\tremaining: 1.13s\n",
      "24:\tlearn: 0.8360904\ttest: 0.8354637\tbest: 0.8356145 (23)\ttotal: 366ms\tremaining: 1.1s\n",
      "25:\tlearn: 0.8362573\ttest: 0.8356704\tbest: 0.8356704 (25)\ttotal: 374ms\tremaining: 1.06s\n",
      "26:\tlearn: 0.8365140\ttest: 0.8357551\tbest: 0.8357551 (26)\ttotal: 384ms\tremaining: 1.04s\n",
      "27:\tlearn: 0.8369188\ttest: 0.8358071\tbest: 0.8358071 (27)\ttotal: 393ms\tremaining: 1.01s\n",
      "28:\tlearn: 0.8369116\ttest: 0.8358007\tbest: 0.8358071 (27)\ttotal: 402ms\tremaining: 984ms\n",
      "29:\tlearn: 0.8369724\ttest: 0.8355692\tbest: 0.8358071 (27)\ttotal: 412ms\tremaining: 961ms\n",
      "30:\tlearn: 0.8371700\ttest: 0.8353863\tbest: 0.8358071 (27)\ttotal: 421ms\tremaining: 937ms\n",
      "31:\tlearn: 0.8374307\ttest: 0.8355359\tbest: 0.8358071 (27)\ttotal: 430ms\tremaining: 913ms\n",
      "32:\tlearn: 0.8371636\ttest: 0.8351390\tbest: 0.8358071 (27)\ttotal: 439ms\tremaining: 892ms\n",
      "33:\tlearn: 0.8372165\ttest: 0.8355974\tbest: 0.8358071 (27)\ttotal: 449ms\tremaining: 872ms\n",
      "34:\tlearn: 0.8377089\ttest: 0.8355768\tbest: 0.8358071 (27)\ttotal: 458ms\tremaining: 851ms\n",
      "35:\tlearn: 0.8375708\ttest: 0.8355778\tbest: 0.8358071 (27)\ttotal: 468ms\tremaining: 832ms\n",
      "36:\tlearn: 0.8378337\ttest: 0.8357270\tbest: 0.8358071 (27)\ttotal: 476ms\tremaining: 810ms\n",
      "37:\tlearn: 0.8382010\ttest: 0.8359481\tbest: 0.8359481 (37)\ttotal: 485ms\tremaining: 791ms\n",
      "38:\tlearn: 0.8383295\ttest: 0.8358038\tbest: 0.8359481 (37)\ttotal: 493ms\tremaining: 771ms\n",
      "39:\tlearn: 0.8384359\ttest: 0.8357568\tbest: 0.8359481 (37)\ttotal: 503ms\tremaining: 754ms\n",
      "40:\tlearn: 0.8384359\ttest: 0.8357396\tbest: 0.8359481 (37)\ttotal: 511ms\tremaining: 736ms\n",
      "41:\tlearn: 0.8385793\ttest: 0.8354530\tbest: 0.8359481 (37)\ttotal: 520ms\tremaining: 718ms\n",
      "42:\tlearn: 0.8384678\ttest: 0.8354766\tbest: 0.8359481 (37)\ttotal: 528ms\tremaining: 700ms\n",
      "43:\tlearn: 0.8387007\ttest: 0.8356209\tbest: 0.8359481 (37)\ttotal: 536ms\tremaining: 682ms\n",
      "44:\tlearn: 0.8387575\ttest: 0.8354712\tbest: 0.8359481 (37)\ttotal: 544ms\tremaining: 665ms\n",
      "45:\tlearn: 0.8387685\ttest: 0.8355855\tbest: 0.8359481 (37)\ttotal: 554ms\tremaining: 650ms\n",
      "46:\tlearn: 0.8388971\ttest: 0.8358691\tbest: 0.8359481 (37)\ttotal: 563ms\tremaining: 634ms\n",
      "47:\tlearn: 0.8390508\ttest: 0.8360909\tbest: 0.8360909 (47)\ttotal: 571ms\tremaining: 619ms\n",
      "48:\tlearn: 0.8390339\ttest: 0.8364811\tbest: 0.8364811 (48)\ttotal: 580ms\tremaining: 604ms\n",
      "49:\tlearn: 0.8389990\ttest: 0.8362552\tbest: 0.8364811 (48)\ttotal: 589ms\tremaining: 589ms\n",
      "50:\tlearn: 0.8393006\ttest: 0.8360290\tbest: 0.8364811 (48)\ttotal: 599ms\tremaining: 576ms\n",
      "51:\tlearn: 0.8392481\ttest: 0.8354731\tbest: 0.8364811 (48)\ttotal: 608ms\tremaining: 562ms\n",
      "52:\tlearn: 0.8395096\ttest: 0.8358617\tbest: 0.8364811 (48)\ttotal: 617ms\tremaining: 547ms\n",
      "53:\tlearn: 0.8396713\ttest: 0.8359807\tbest: 0.8364811 (48)\ttotal: 627ms\tremaining: 534ms\n",
      "54:\tlearn: 0.8398260\ttest: 0.8361964\tbest: 0.8364811 (48)\ttotal: 638ms\tremaining: 522ms\n",
      "55:\tlearn: 0.8399350\ttest: 0.8360473\tbest: 0.8364811 (48)\ttotal: 648ms\tremaining: 509ms\n",
      "56:\tlearn: 0.8400291\ttest: 0.8360055\tbest: 0.8364811 (48)\ttotal: 657ms\tremaining: 496ms\n",
      "57:\tlearn: 0.8402019\ttest: 0.8360355\tbest: 0.8364811 (48)\ttotal: 667ms\tremaining: 483ms\n",
      "58:\tlearn: 0.8399963\ttest: 0.8357446\tbest: 0.8364811 (48)\ttotal: 677ms\tremaining: 470ms\n",
      "59:\tlearn: 0.8401439\ttest: 0.8362184\tbest: 0.8364811 (48)\ttotal: 687ms\tremaining: 458ms\n",
      "60:\tlearn: 0.8401123\ttest: 0.8361293\tbest: 0.8364811 (48)\ttotal: 696ms\tremaining: 445ms\n",
      "61:\tlearn: 0.8400428\ttest: 0.8359445\tbest: 0.8364811 (48)\ttotal: 706ms\tremaining: 433ms\n",
      "62:\tlearn: 0.8401409\ttest: 0.8358725\tbest: 0.8364811 (48)\ttotal: 717ms\tremaining: 421ms\n",
      "63:\tlearn: 0.8408210\ttest: 0.8363087\tbest: 0.8364811 (48)\ttotal: 727ms\tremaining: 409ms\n",
      "64:\tlearn: 0.8407837\ttest: 0.8363623\tbest: 0.8364811 (48)\ttotal: 736ms\tremaining: 396ms\n",
      "65:\tlearn: 0.8408178\ttest: 0.8362066\tbest: 0.8364811 (48)\ttotal: 745ms\tremaining: 384ms\n",
      "66:\tlearn: 0.8409662\ttest: 0.8362668\tbest: 0.8364811 (48)\ttotal: 754ms\tremaining: 371ms\n",
      "67:\tlearn: 0.8412356\ttest: 0.8363270\tbest: 0.8364811 (48)\ttotal: 763ms\tremaining: 359ms\n",
      "68:\tlearn: 0.8414266\ttest: 0.8364343\tbest: 0.8364811 (48)\ttotal: 772ms\tremaining: 347ms\n",
      "69:\tlearn: 0.8414396\ttest: 0.8364710\tbest: 0.8364811 (48)\ttotal: 782ms\tremaining: 335ms\n",
      "70:\tlearn: 0.8414521\ttest: 0.8360585\tbest: 0.8364811 (48)\ttotal: 790ms\tremaining: 323ms\n",
      "71:\tlearn: 0.8421395\ttest: 0.8372177\tbest: 0.8372177 (71)\ttotal: 799ms\tremaining: 311ms\n",
      "72:\tlearn: 0.8421183\ttest: 0.8372846\tbest: 0.8372846 (72)\ttotal: 809ms\tremaining: 299ms\n",
      "73:\tlearn: 0.8422439\ttest: 0.8373800\tbest: 0.8373800 (73)\ttotal: 817ms\tremaining: 287ms\n",
      "74:\tlearn: 0.8422178\ttest: 0.8373984\tbest: 0.8373984 (74)\ttotal: 827ms\tremaining: 276ms\n",
      "75:\tlearn: 0.8423207\ttest: 0.8373750\tbest: 0.8373984 (74)\ttotal: 836ms\tremaining: 264ms\n",
      "76:\tlearn: 0.8423991\ttest: 0.8373030\tbest: 0.8373984 (74)\ttotal: 845ms\tremaining: 252ms\n",
      "77:\tlearn: 0.8423356\ttest: 0.8371490\tbest: 0.8373984 (74)\ttotal: 855ms\tremaining: 241ms\n",
      "78:\tlearn: 0.8424401\ttest: 0.8369698\tbest: 0.8373984 (74)\ttotal: 863ms\tremaining: 230ms\n",
      "79:\tlearn: 0.8424483\ttest: 0.8370133\tbest: 0.8373984 (74)\ttotal: 873ms\tremaining: 218ms\n",
      "80:\tlearn: 0.8424582\ttest: 0.8369965\tbest: 0.8373984 (74)\ttotal: 882ms\tremaining: 207ms\n",
      "81:\tlearn: 0.8425840\ttest: 0.8371104\tbest: 0.8373984 (74)\ttotal: 890ms\tremaining: 195ms\n",
      "82:\tlearn: 0.8426771\ttest: 0.8370870\tbest: 0.8373984 (74)\ttotal: 899ms\tremaining: 184ms\n",
      "83:\tlearn: 0.8429190\ttest: 0.8372982\tbest: 0.8373984 (74)\ttotal: 908ms\tremaining: 173ms\n",
      "84:\tlearn: 0.8428330\ttest: 0.8367347\tbest: 0.8373984 (74)\ttotal: 918ms\tremaining: 162ms\n",
      "85:\tlearn: 0.8430173\ttest: 0.8365118\tbest: 0.8373984 (74)\ttotal: 928ms\tremaining: 151ms\n",
      "86:\tlearn: 0.8431175\ttest: 0.8364528\tbest: 0.8373984 (74)\ttotal: 937ms\tremaining: 140ms\n",
      "87:\tlearn: 0.8430910\ttest: 0.8366626\tbest: 0.8373984 (74)\ttotal: 946ms\tremaining: 129ms\n",
      "88:\tlearn: 0.8430656\ttest: 0.8365735\tbest: 0.8373984 (74)\ttotal: 955ms\tremaining: 118ms\n",
      "89:\tlearn: 0.8431540\ttest: 0.8366640\tbest: 0.8373984 (74)\ttotal: 964ms\tremaining: 107ms\n",
      "90:\tlearn: 0.8433529\ttest: 0.8369193\tbest: 0.8373984 (74)\ttotal: 975ms\tremaining: 96.4ms\n",
      "91:\tlearn: 0.8434611\ttest: 0.8366677\tbest: 0.8373984 (74)\ttotal: 985ms\tremaining: 85.7ms\n",
      "92:\tlearn: 0.8435082\ttest: 0.8366192\tbest: 0.8373984 (74)\ttotal: 996ms\tremaining: 75ms\n",
      "93:\tlearn: 0.8436000\ttest: 0.8365353\tbest: 0.8373984 (74)\ttotal: 1.01s\tremaining: 64.2ms\n",
      "94:\tlearn: 0.8436645\ttest: 0.8362784\tbest: 0.8373984 (74)\ttotal: 1.02s\tremaining: 53.5ms\n",
      "95:\tlearn: 0.8436694\ttest: 0.8363505\tbest: 0.8373984 (74)\ttotal: 1.03s\tremaining: 42.8ms\n",
      "96:\tlearn: 0.8436893\ttest: 0.8364882\tbest: 0.8373984 (74)\ttotal: 1.04s\tremaining: 32.1ms\n"
     ]
    },
    {
     "name": "stdout",
     "output_type": "stream",
     "text": [
      "97:\tlearn: 0.8436980\ttest: 0.8364948\tbest: 0.8373984 (74)\ttotal: 1.05s\tremaining: 21.5ms\n",
      "98:\tlearn: 0.8435901\ttest: 0.8365971\tbest: 0.8373984 (74)\ttotal: 1.07s\tremaining: 10.8ms\n",
      "99:\tlearn: 0.8436931\ttest: 0.8362601\tbest: 0.8373984 (74)\ttotal: 1.08s\tremaining: 0us\n",
      "\n",
      "bestTest = 0.837398374\n",
      "bestIteration = 74\n",
      "\n",
      "Shrink model to first 75 iterations.\n"
     ]
    },
    {
     "data": {
      "text/plain": [
       "<catboost.core.CatBoostClassifier at 0x29d07f09c40>"
      ]
     },
     "execution_count": 44,
     "metadata": {},
     "output_type": "execute_result"
    }
   ],
   "source": [
    "#Construct a catetorical boost classifier\n",
    "model_cb=CatBoostClassifier(iterations=100,eval_metric='F1')\n",
    "model_cb.fit(X_train,Y_train,cat_features=feature_names,plot=True,\n",
    "             eval_set=(X_test,Y_test))"
   ]
  },
  {
   "cell_type": "code",
   "execution_count": 45,
   "id": "52bd2389",
   "metadata": {
    "id": "52bd2389",
    "outputId": "37e27672-4bba-4afe-b620-4c8ebc80c000"
   },
   "outputs": [
    {
     "data": {
      "text/plain": [
       "array([1, 1, 0, ..., 1, 1, 1], dtype=int64)"
      ]
     },
     "execution_count": 45,
     "metadata": {},
     "output_type": "execute_result"
    }
   ],
   "source": [
    "predict=model_cb.predict(X_test)\n",
    "predict"
   ]
  },
  {
   "cell_type": "code",
   "execution_count": 46,
   "id": "46dd5165",
   "metadata": {
    "id": "46dd5165",
    "outputId": "5dbfb911-00d3-4043-f2b6-223495d14b25"
   },
   "outputs": [
    {
     "name": "stdout",
     "output_type": "stream",
     "text": [
      "The f1 score of Catboost classifier is 0.8373983739837398\n"
     ]
    }
   ],
   "source": [
    "print('The f1 score of Catboost classifier is',f1_score(Y_test,predict))"
   ]
  },
  {
   "cell_type": "code",
   "execution_count": 47,
   "id": "75f6d982",
   "metadata": {
    "id": "75f6d982",
    "outputId": "c7b80413-c1de-4462-8ef2-7f4e5dd5e410"
   },
   "outputs": [
    {
     "name": "stdout",
     "output_type": "stream",
     "text": [
      "The proportion of correctly categorizing cases, in testing set :\n",
      " 0.7514844952716077\n"
     ]
    }
   ],
   "source": [
    "print('The proportion of correctly categorizing cases, in testing set :\\n',accuracy_score(Y_test,predict))"
   ]
  },
  {
   "cell_type": "code",
   "execution_count": null,
   "id": "8974e660",
   "metadata": {
    "id": "8974e660"
   },
   "outputs": [],
   "source": []
  }
 ],
 "metadata": {
  "colab": {
   "provenance": []
  },
  "kernelspec": {
   "display_name": "Python 3 (ipykernel)",
   "language": "python",
   "name": "python3"
  },
  "language_info": {
   "codemirror_mode": {
    "name": "ipython",
    "version": 3
   },
   "file_extension": ".py",
   "mimetype": "text/x-python",
   "name": "python",
   "nbconvert_exporter": "python",
   "pygments_lexer": "ipython3",
   "version": "3.9.13"
  }
 },
 "nbformat": 4,
 "nbformat_minor": 5
}
